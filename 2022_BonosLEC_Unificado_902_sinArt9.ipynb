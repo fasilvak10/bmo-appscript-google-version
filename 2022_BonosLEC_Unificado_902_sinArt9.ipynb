{
  "cells": [
    {
      "cell_type": "markdown",
      "metadata": {
        "id": "view-in-github",
        "colab_type": "text"
      },
      "source": [
        "<a href=\"https://colab.research.google.com/github/fasilvak10/bmo-appscript-google-version/blob/main/2022_BonosLEC_Unificado_902_sinArt9.ipynb\" target=\"_parent\"><img src=\"https://colab.research.google.com/assets/colab-badge.svg\" alt=\"Open In Colab\"/></a>"
      ]
    },
    {
      "cell_type": "markdown",
      "metadata": {
        "id": "v-oZbR-7yJHu"
      },
      "source": [
        "<h1>================ BONOS LEC - UNIFICADO (con Bono 902) =================</h1>"
      ]
    },
    {
      "cell_type": "markdown",
      "metadata": {
        "id": "LFzW0GgJGhYc"
      },
      "source": [
        "--- Se importan las Librerías utilizadas en el código y se especifica la ruta del archivo XLS a procesar (en este caso desde el Drive)."
      ]
    },
    {
      "cell_type": "code",
      "execution_count": null,
      "metadata": {
        "colab": {
          "base_uri": "https://localhost:8080/"
        },
        "id": "6r2mdIfzO2K3",
        "outputId": "46006d48-3c59-4805-ef65-0e044ebae571"
      },
      "outputs": [
        {
          "output_type": "stream",
          "name": "stdout",
          "text": [
            "Looking in indexes: https://pypi.org/simple, https://us-python.pkg.dev/colab-wheels/public/simple/\n",
            "Requirement already satisfied: xlsxwriter in /usr/local/lib/python3.8/dist-packages (3.0.8)\n"
          ]
        }
      ],
      "source": [
        "pip install xlsxwriter"
      ]
    },
    {
      "cell_type": "code",
      "execution_count": null,
      "metadata": {
        "id": "Oc5e6zGol3wF"
      },
      "outputs": [],
      "source": [
        "from google.colab import drive\n",
        "drive.mount('/content/drive')"
      ]
    },
    {
      "cell_type": "code",
      "execution_count": null,
      "metadata": {
        "id": "-OZY-8Nllx-D"
      },
      "outputs": [],
      "source": [
        "import numpy as np\n",
        "import pandas as pd\n",
        "import time\n",
        "from datetime import date\n",
        "from datetime import datetime\n",
        "from pytz import timezone  \n",
        "from dateutil.relativedelta import relativedelta"
      ]
    },
    {
      "cell_type": "code",
      "execution_count": null,
      "metadata": {
        "id": "u_P7UzoTmJBI"
      },
      "outputs": [],
      "source": [
        "ruta_archivo_mectra = \"/content/drive/My Drive/BonosLEC/Archivos procesamiento/Mectra/lps_202212.csv\"\n",
        "ruta_archivo_bonos_insumo = \"/content/drive/My Drive/BonosLEC/Archivos procesamiento/Unificado/202212 Exportaciones Acto Ajuste.xlsx\"\n",
        "ruta_archivo_insumo_empresas = \"/content/drive/My Drive/BonosLEC/Archivos procesamiento/Unificado/Empresas_Tipo.xlsx\"\n",
        "\n",
        "tope_emp = 1000000000\n",
        "factor_tope = 1\n",
        "\n",
        "fecha_generacion = datetime.now().strftime(\"%Y\") + datetime.now().strftime(\"%m\") + datetime.now().strftime(\"%d\")\n",
        "anio_generacion = datetime.now().strftime(\"%Y\")\n",
        "argentina = timezone('America/Argentina/Buenos_Aires')\n",
        "hora_generacion = datetime.now(argentina).strftime('%H%M%S')\n",
        "\n",
        "numero_verificador_900 = 994    # Número verificador que tendra el archivo TXT\n",
        "numero_certificado_900 = 11923  # Ultimo número de certificado emitido para el Bono 900, se irá incrementando en cada registro 02\n",
        "\n",
        "numero_verificador_901 = 922    # Número verificador que tendra el archivo TXT\n",
        "numero_certificado_901 = 7852   # Ultimo número de certificado emitido para el Bono 901, se irá incrementando en cada registro 02\n",
        "\n",
        "numero_verificador_902 = 1      # Número verificador que tendra el archivo TXT\n",
        "numero_certificado_902 = 0      # Ultimo número de certificado emitido para el Bono 902, se irá incrementando en cada registro 02\n",
        "\n",
        "## Agregado Reporte General\n",
        "\n",
        "agrega_reporte_general = \"Si\"\n",
        "nro_cert_900_inicial = numero_certificado_900 + 1\n",
        "nro_cert_901_inicial = numero_certificado_901 + 1\n",
        "nro_cert_902_inicial = numero_certificado_902 + 1"
      ]
    },
    {
      "cell_type": "markdown",
      "metadata": {
        "id": "Ms3TdRePHATK"
      },
      "source": [
        "--- Se leen los archivos correspondiente a Mectra, Bonos Insumos y Tipos de Empresas. \n",
        "\n",
        "--- Se renombran y formatean algunas columnas en los DFs generados."
      ]
    },
    {
      "cell_type": "code",
      "execution_count": null,
      "metadata": {
        "id": "wd4WNSbVlx-T"
      },
      "outputs": [],
      "source": [
        "mectra = pd.read_csv(ruta_archivo_mectra, sep=',')\n",
        "mectra = mectra.round(2)\n",
        "mectra = mectra.drop(columns=['zona','codprov'])\n",
        "\n",
        "insumo = pd.read_excel(ruta_archivo_bonos_insumo, sheet_name=\"Hoja1\")\n",
        "insumo.rename(columns={\"CUIT\": \"cuit\", \"Razon Social\": \"razonsocial\", \"Exportacion\": \"exportacion\", \"Fecha de Acto\": \"fechaacto\", \"Ajuste\": \"ajuste\"}, inplace=True)\n",
        "insumo[\"exportacion\"] = insumo[\"exportacion\"].str.replace(\"%\",\"\").str.replace(\",\",\".\").astype(np.float)\n",
        "insumo[\"ajuste\"] = insumo[\"ajuste\"].str.replace(\",\",\".\").astype(np.float)\n",
        "insumo = insumo.round(2)\n",
        "\n",
        "empresas = pd.read_excel(ruta_archivo_insumo_empresas, sheet_name=\"Hoja1\")\n",
        "empresas.rename(columns={\"CUIT\": \"cuit\", \"Razon Social\": \"razonsocial\", \"Tipo\": \"tipo\", \"Código\": \"codigo\"}, inplace=True)"
      ]
    },
    {
      "cell_type": "code",
      "execution_count": null,
      "metadata": {
        "id": "FHAVI4a9Ehjs"
      },
      "outputs": [],
      "source": [
        "insumo"
      ]
    },
    {
      "cell_type": "code",
      "execution_count": null,
      "metadata": {
        "id": "HawdVa-k9Abz"
      },
      "outputs": [],
      "source": [
        "mectra"
      ]
    },
    {
      "cell_type": "markdown",
      "metadata": {
        "id": "n-euuv6aVaMM"
      },
      "source": [
        "--- Solo nos quedamos con los CUITs de las empresas que nos interesan, las que estan presentes en Bonos Insumo.\n",
        "\n",
        "--- Marcamos dentro de las empresas informadas en Insumo, cantidades para los nuevos códigos en Mectra y que tipo de empresa es (adherente o inscripión)"
      ]
    },
    {
      "cell_type": "code",
      "execution_count": null,
      "metadata": {
        "id": "n38VDhErSpwS"
      },
      "outputs": [],
      "source": [
        "insumo[\"codigo_empresa\"] = \"\"\n",
        "insumo[\"tipo_empresa\"] = \"\"\n",
        "insumo[\"total_lec\"] = \"\"\n",
        "insumo[\"total_lec_mectra_dj\"] = \"\"\n",
        "insumo[\"total_lec_emp_promo\"] = \"\"\n",
        "insumo[\"art9_lec_133\"] = \"\"\n",
        "insumo[\"promo_lec_132\"] = \"\"\n",
        "cuit_insumo = insumo['cuit'].tolist()\n",
        "\n",
        "for x in range(len(mectra)):\n",
        "  if mectra.loc[x, \"cuit\"] not in cuit_insumo:\n",
        "    mectra = mectra.drop(x)\n",
        "\n",
        "mectra.drop_duplicates()\n",
        "mectra[\"index\"] = [x for x in range(len(mectra))]\n",
        "mectra.set_index(\"index\", inplace=True)\n",
        "\n",
        "for x in range(len(insumo)):\n",
        "  insumo.loc[x, \"codigo_empresa\"] = empresas.loc[empresas[\"cuit\"] == insumo.loc[x, \"cuit\"], \"codigo\"].item()\n",
        "  insumo.loc[x, \"tipo_empresa\"] = empresas.loc[empresas[\"cuit\"] == insumo.loc[x, \"cuit\"], \"tipo\"].item()\n",
        "  insumo.loc[x, \"total_lec\"] = len(mectra.loc[mectra[\"cuit\"] == insumo.loc[x, \"cuit\"]])\n",
        "  insumo.loc[x, \"promo_lec_132\"] = len(mectra.loc[(mectra[\"cuit\"] == insumo.loc[x, \"cuit\"]) & (mectra[\"act_trab\"] == 132)])\n",
        "  insumo.loc[x, \"art9_lec_133\"] = len(mectra.loc[(mectra[\"cuit\"] == insumo.loc[x, \"cuit\"]) & (mectra[\"act_trab\"] == 133)])\n",
        "  insumo.loc[x, \"total_lec_emp_promo\"] = insumo.loc[x, \"promo_lec_132\"] + insumo.loc[x, \"art9_lec_133\"]"
      ]
    },
    {
      "cell_type": "markdown",
      "metadata": {
        "id": "SHYFE-Yi_7Dq"
      },
      "source": [
        "--- Se calcula el monto ANSSAL a descontar de las contribuciones de los empleados.\n",
        "\n",
        "--- Si el monto de Conss menos el valor calculado de Anssal da menor a 1, el mismo queda en 0 (para evitar valores negativos).\n",
        "\n"
      ]
    },
    {
      "cell_type": "code",
      "execution_count": null,
      "metadata": {
        "id": "sD07fl2SAO-2"
      },
      "outputs": [],
      "source": [
        "mectra[\"conos_mayor_cero\"] = \"\"\n",
        "mectra[\"rem8_menor_2400\"] = \"\"\n",
        "mectra[\"porc_anssal_os\"] = \"\"\n",
        "mectra[\"monto_anssal\"] = \"\"\n",
        "mectra[\"conss_sin_anssal\"] = \"\"\n",
        "\n",
        "for x in range(len(mectra)):\n",
        "  if mectra.loc[x, \"conos\"] > 0:\n",
        "    mectra.loc[x, \"conos_mayor_cero\"] = 1\n",
        "  else:\n",
        "    mectra.loc[x, \"conos_mayor_cero\"] = 0\n",
        "\n",
        "  if mectra.loc[x, \"rem8\"] < 2400:\n",
        "    mectra.loc[x, \"rem8_menor_2400\"] = 0.05\n",
        "  else:\n",
        "    mectra.loc[x, \"rem8_menor_2400\"] = 0\n",
        "\n",
        "  if (str(mectra.loc[x, \"cod_bosocial\"])[:1] == '4' and mectra.loc[x, \"cod_bosocial\"] > 100000):\n",
        "    mectra.loc[x, \"porc_anssal_os\"] = 0.2 - mectra.loc[x, \"rem8_menor_2400\"]\n",
        "  else:\n",
        "    mectra.loc[x, \"porc_anssal_os\"] = 0.15 - mectra.loc[x, \"rem8_menor_2400\"]\n",
        "  \n",
        "  mectra.loc[x, \"monto_anssal\"] = (mectra.loc[x, \"rem8\"]*0.06 + mectra.loc[x, \"imp_ad_os\"])*mectra.loc[x, \"conos_mayor_cero\"]*mectra.loc[x, \"porc_anssal_os\"]\n",
        "  mectra.loc[x, \"conss_sin_anssal\"] = mectra.loc[x, \"conss\"] - mectra.loc[x, \"monto_anssal\"]\n",
        "\n",
        "  if mectra.loc[x, \"conss_sin_anssal\"] < 1:\n",
        "    mectra.loc[x, \"conss_sin_anssal\"] = 0\n",
        "\n",
        "mectra = mectra.round(2)"
      ]
    },
    {
      "cell_type": "markdown",
      "metadata": {
        "id": "5_536-dtjRnD"
      },
      "source": [
        "--- Se calcula tambien el monto aportado a los bonos en base a las contribuciones de cada empleado (se diferencia el aporte extra de Art9)."
      ]
    },
    {
      "cell_type": "code",
      "execution_count": null,
      "metadata": {
        "id": "cMhMoY9njNpi"
      },
      "outputs": [],
      "source": [
        "mectra[\"conss_sin_anssal_art8\"] = \"\"\n",
        "mectra[\"conss_sin_anssal_art9\"] = \"\"\n",
        "periodo_mectra = np.unique(mectra['mes']).tolist()\n",
        "\n",
        "for x in range(len(mectra)):\n",
        "  if mectra.loc[x, \"act_trab\"] == 132:\n",
        "    mectra.loc[x, \"conss_sin_anssal_art8\"] = mectra.loc[x, \"conss_sin_anssal\"]*0.7\n",
        "    mectra.loc[x, \"conss_sin_anssal_art9\"] = 0\n",
        "  elif mectra.loc[x, \"act_trab\"] == 133:\n",
        "    mectra.loc[x, \"conss_sin_anssal_art8\"] = mectra.loc[x, \"conss_sin_anssal\"]*0.7\n",
        "    mectra.loc[x, \"conss_sin_anssal_art9\"] = mectra.loc[x, \"conss_sin_anssal\"]*0.1\n",
        "  else:\n",
        "    mectra.loc[x, \"conss_sin_anssal_art8\"] = 0\n",
        "    mectra.loc[x, \"conss_sin_anssal_art9\"] = 0"
      ]
    },
    {
      "cell_type": "markdown",
      "metadata": {
        "id": "hMDnHOYHHbSc"
      },
      "source": [
        "--- Se realiza el cálculo del monto de los bonos para cada una de las empresas informadas en insumo.\n",
        "\n",
        "--- También se realizan otros calculos a modo de reporte."
      ]
    },
    {
      "cell_type": "code",
      "execution_count": null,
      "metadata": {
        "id": "sBwuamCG9647"
      },
      "outputs": [],
      "source": [
        "insumo[\"contrib_total_lec\"] = \"\"\n",
        "insumo[\"contrib_promo_art8\"] = \"\"\n",
        "insumo[\"contrib_promo_art9\"] = \"\"\n",
        "insumo[\"total_bonos_sin_ajuste\"] = \"\"\n",
        "insumo[\"total_bonos\"] = \"\"\n",
        "insumo[\"total_bono_900\"] = \"\"\n",
        "insumo[\"total_bono_901\"] = \"\"\n",
        "insumo[\"total_bono_902\"] = \"\"\n",
        "insumo[\"fecha_inicio_inscripcion\"] = \"\"\n",
        "insumo[\"fecha_inicio\"] = \"\"\n",
        "insumo[\"fecha_fin\"] = \"\"\n",
        "cuit_insumo = insumo['cuit'].tolist()\n",
        "\n",
        "for x in range(len(insumo)):\n",
        "  cuit_insumo = insumo.loc[x, \"cuit\"]\n",
        "  cant_promo = insumo.loc[x, \"promo_lec_132\"] + insumo.loc[x, \"art9_lec_133\"]\n",
        "  if cant_promo > tope_emp:\n",
        "    factor_tope = tope_emp/cant_promo\n",
        "  else:\n",
        "    factor_tope = 1\n",
        "    \n",
        "  insumo.loc[x, \"contrib_total_lec\"] = mectra.loc[mectra[\"cuit\"] == cuit_insumo, \"conss_sin_anssal\"].sum()\n",
        "  insumo.loc[x, \"contrib_promo_art8\"] = mectra.loc[mectra[\"cuit\"] == cuit_insumo, \"conss_sin_anssal_art8\"].sum()\n",
        "  insumo.loc[x, \"contrib_promo_art8\"] = insumo.loc[x, \"contrib_promo_art8\"] * factor_tope\n",
        "  insumo.loc[x, \"contrib_promo_art9\"] = mectra.loc[mectra[\"cuit\"] == cuit_insumo, \"conss_sin_anssal_art9\"].sum()\n",
        "  insumo.loc[x, \"contrib_promo_art9\"] = insumo.loc[x, \"contrib_promo_art9\"] * factor_tope\n",
        "  insumo.loc[x, \"total_bonos_sin_ajuste\"] = insumo.loc[x, \"contrib_promo_art8\"]             ## porque aun no se otorga el beneficio de Art9\n",
        "  if insumo.loc[x, \"total_bonos_sin_ajuste\"] > insumo.loc[x, \"ajuste\"]:\n",
        "    insumo.loc[x, \"total_bonos\"] = insumo.loc[x, \"total_bonos_sin_ajuste\"] - insumo.loc[x, \"ajuste\"]\n",
        "  else:\n",
        "    insumo.loc[x, \"total_bonos\"] = 0\n",
        "  if insumo.loc[x, \"exportacion\"] < 70 or periodo_mectra[0] < 202210:\n",
        "    insumo.loc[x, \"total_bono_901\"] = insumo.loc[x, \"total_bonos\"] * (insumo.loc[x, \"exportacion\"]/100)\n",
        "    insumo.loc[x, \"total_bono_902\"] = 0\n",
        "  else:\n",
        "    insumo.loc[x, \"total_bono_902\"] = insumo.loc[x, \"total_bonos\"] * (insumo.loc[x, \"exportacion\"]/100)\n",
        "    insumo.loc[x, \"total_bono_901\"] = 0\n",
        "  insumo.loc[x, \"total_bono_900\"] = insumo.loc[x, \"total_bonos\"] - (insumo.loc[x, \"total_bono_901\"] + insumo.loc[x, \"total_bono_902\"])\n",
        "  if insumo.loc[x, \"codigo_empresa\"] == 2:\n",
        "    insumo.loc[x, \"fecha_inicio_inscripcion\"] = (insumo.loc[x, \"fechaacto\"] + relativedelta(months = 1)).replace(day=1)\n",
        "  else:\n",
        "    insumo.loc[x, \"fecha_inicio_inscripcion\"] = \"20200101\"\n",
        "  insumo.loc[x, \"fecha_inicio\"] = date.today().isoformat()\n",
        "  insumo.loc[x, \"fecha_fin\"] = date.today() + relativedelta(years = 2) + relativedelta(days = -1)\n",
        "\n",
        "insumo = insumo.round(2)"
      ]
    },
    {
      "cell_type": "markdown",
      "metadata": {
        "id": "VvpNSSypOAfW"
      },
      "source": [
        "--- Se genera el Bono 900"
      ]
    },
    {
      "cell_type": "code",
      "execution_count": null,
      "metadata": {
        "id": "0vc14g8fOprp"
      },
      "outputs": [],
      "source": [
        "bono_900 = insumo.loc[(insumo[\"total_bono_900\"] > 0)]\n",
        "bono_900[\"index\"] = [x for x in range(len(bono_900))]\n",
        "bono_900.set_index(\"index\", inplace=True)\n",
        "\n",
        "cant_bonos = len(bono_900)\n",
        "for x in range(cant_bonos):\n",
        "  bono_900.loc[x ,\"total_bono_900\"] = bono_900.loc[x ,\"total_bono_900\"].round(2)\n",
        "monto_total_bonos = \"{:.2f}\".format(bono_900[\"total_bono_900\"].sum())\n",
        "\n",
        "registro01 = \"01\"                                          # Tipo de Registro\n",
        "registro01 += \"30710817452\"                                # CUIT Ministerio\n",
        "registro01 += \"00\"                                         # Establecimiento\n",
        "registro01 += \"083\"                                        # Impuesto\n",
        "registro01 += \"019\"                                        # Concepto\n",
        "registro01 += str(periodo_mectra[0])                       # Período\n",
        "registro01 += \"0\"                                          # Código de Rectificativa\n",
        "registro01 += str(numero_verificador_900).zfill(6)         # Número Verificador - ES UN VALOR INTERNO DE IDENTIFICACIÓN QUE UD LE QUIERAN COLOCAR\n",
        "registro01 += \"1400\"                                       # Número de Formulario\n",
        "registro01 += \"00100\"                                      # Versión\n",
        "registro01 += hora_generacion                              # Hora - generación del archivo HHMMSS\n",
        "registro01 += \"0100000\"                                    # Versión del exe\n",
        "registro01 += str(cant_bonos).zfill(7)                     # Cantidad de Bonos\n",
        "registro01 += monto_total_bonos.replace(\".\",\"\").zfill(15)  # Monto total Bonos con dos decimales sin coma (13 valores mas 2 dígitos)\n",
        "lst_bono_900 = [registro01]\n",
        "\n",
        "for x in range(cant_bonos):\n",
        "  numero_certificado_900 += 1\n",
        "  registro02 = \"02\"                                                                           # Tipo de Registro\n",
        "  registro02 += \"900\"                                                                         # Tipo de Certificado - 900 / 901\n",
        "  registro02 += anio_generacion                                                               # Año de emisión de Certificado\n",
        "  registro02 += str(numero_certificado_900).zfill(9)                                          # Número de Certificado - ESTE NRO ES A CRITERIO DE CVSA. DEBE SER CORRELATIVO Y CADA AÑO REINICIA LA NUMERACIÓN\n",
        "  registro02 += str(bono_900.loc[x ,\"cuit\"])                                                  # CUIT de la empresa beneficiaria\n",
        "  registro02 += \"{:.2f}\".format(bono_900.loc[x ,\"total_bono_900\"]).replace(\".\",\"\").zfill(15)  # Monto con dos decimales y coma (13 valores mas 2 dígitos)\n",
        "  registro02 += str(bono_900.loc[x ,\"fechaacto\"]).replace(\"-\",\"\")[:8]                         # Fecha de Expediente - Formato AAAAMMDD - ES UN DATO INTERNO DE CVSA. GENERALMENTE LOS ORGANISMOS EXTERNOS INFORMAN NRO DE EXPEDIENTE O CARPETA QUE DIO ORIGEN A ESE OTORGAMIENTO DEL BENEFICIO DEL CRÉDITO FISCAL. NO VALIDAMOS ESTE DATO.\n",
        "  registro02 += str(bono_900.loc[x ,\"fecha_inicio_inscripcion\"]).replace(\"-\",\"\")[:8]          # Fecha desde - inscripcion en el registro (es la fecha de la emisión, que puede diferir de la fecha en el Registro)\n",
        "  registro02 += str(bono_900.loc[x ,\"fecha_fin\"]).replace(\"-\",\"\")[:8]                         # Fecha hasta - máxima a utilizar el bono\n",
        "  registro02 += \"1\"                                                                           # Estado\n",
        "  lst_bono_900.append(registro02)\n",
        "\n",
        "registro90 = \"90\"                                               # Tipo de Registro\n",
        "registro90 += \"010\"                                             # Código - Aca irá el código 10 y en el campo Importe la Cantidad\n",
        "registro90 += str(cant_bonos).zfill(15)                         # Importe - Cantidad de bonos informados\n",
        "lst_bono_900.append(registro90)\n",
        "\n",
        "registro90 = \"90\"                                               # Tipo de Registro\n",
        "registro90 += \"020\"                                             # Código - en un segundo registro va 20 y en campo Importe va el Monto Total de Certificados\n",
        "registro90 += monto_total_bonos.replace(\".\",\"\").zfill(15)       # Importe - Monto Total de los Bonos informados\n",
        "lst_bono_900.append(registro90)"
      ]
    },
    {
      "cell_type": "markdown",
      "metadata": {
        "id": "RopO-gYvQOsc"
      },
      "source": [
        "--- Se genera el Bono 901"
      ]
    },
    {
      "cell_type": "code",
      "execution_count": null,
      "metadata": {
        "id": "cwBbS9lcQRrO"
      },
      "outputs": [],
      "source": [
        "bono_901 = insumo.loc[(insumo[\"total_bono_901\"] > 0)]\n",
        "bono_901[\"index\"] = [x for x in range(len(bono_901))]\n",
        "bono_901.set_index(\"index\", inplace=True)\n",
        "\n",
        "cant_bonos = len(bono_901)\n",
        "for x in range(cant_bonos):\n",
        "  bono_901.loc[x ,\"total_bono_901\"] = bono_901.loc[x ,\"total_bono_901\"].round(2)\n",
        "monto_total_bonos = \"{:.2f}\".format(bono_901[\"total_bono_901\"].sum())\n",
        "\n",
        "registro01 = \"01\"                                          # Tipo de Registro\n",
        "registro01 += \"30710817452\"                                # CUIT Ministerio\n",
        "registro01 += \"00\"                                         # Establecimiento\n",
        "registro01 += \"083\"                                        # Impuesto\n",
        "registro01 += \"019\"                                        # Concepto\n",
        "registro01 += str(periodo_mectra[0])                       # Período\n",
        "registro01 += \"0\"                                          # Código de Rectificativa\n",
        "registro01 += str(numero_verificador_901).zfill(6)         # Número Verificador - ES UN VALOR INTERNO DE IDENTIFICACIÓN QUE UD LE QUIERAN COLOCAR\n",
        "registro01 += \"1400\"                                       # Número de Formulario\n",
        "registro01 += \"00100\"                                      # Versión\n",
        "registro01 += hora_generacion                              # Hora - generación del archivo HHMMSS\n",
        "registro01 += \"0100000\"                                    # Versión del exe\n",
        "registro01 += str(cant_bonos).zfill(7)                     # Cantidad de Bonos\n",
        "registro01 += monto_total_bonos.replace(\".\",\"\").zfill(15)  # Monto total Bonos con dos decimales sin coma (13 valores mas 2 dígitos)\n",
        "lst_bono_901 = [registro01]\n",
        "\n",
        "for x in range(len(bono_901)):\n",
        "  numero_certificado_901 += 1\n",
        "  registro02 = \"02\"                                                                           # Tipo de Registro\n",
        "  registro02 += \"901\"                                                                         # Tipo de Certificado - 900 / 901\n",
        "  registro02 += anio_generacion                                                               # Año de emisión de Certificado\n",
        "  registro02 += str(numero_certificado_901).zfill(9)                                          # Número de Certificado - ESTE NRO ES A CRITERIO DE CVSA. DEBE SER CORRELATIVO Y CADA AÑO REINICIA LA NUMERACIÓN\n",
        "  registro02 += str(bono_901.loc[x ,\"cuit\"])                                                  # CUIT de la empresa beneficiaria\n",
        "  registro02 += \"{:.2f}\".format(bono_901.loc[x ,\"total_bono_901\"]).replace(\".\",\"\").zfill(15)  # Monto con dos decimales y coma (13 valores mas 2 dígitos)\n",
        "  registro02 += str(bono_901.loc[x ,\"fechaacto\"]).replace(\"-\",\"\")[:8]                         # Fecha de Expediente - Formato AAAAMMDD - ES UN DATO INTERNO DE CVSA. GENERALMENTE LOS ORGANISMOS EXTERNOS INFORMAN NRO DE EXPEDIENTE O CARPETA QUE DIO ORIGEN A ESE OTORGAMIENTO DEL BENEFICIO DEL CRÉDITO FISCAL. NO VALIDAMOS ESTE DATO.\n",
        "  registro02 += str(bono_901.loc[x ,\"fecha_inicio_inscripcion\"]).replace(\"-\",\"\")[:8]          # Fecha desde - inscripcion en el registro (es la fecha de la emisión, que puede diferir de la fecha en el Registro)\n",
        "  registro02 += str(bono_901.loc[x ,\"fecha_fin\"]).replace(\"-\",\"\")[:8]                         # Fecha hasta - máxima a utilizar el bono\n",
        "  registro02 += \"1\"                                                                           # Estado\n",
        "  lst_bono_901.append(registro02)\n",
        "\n",
        "registro90 = \"90\"                                               # Tipo de Registro\n",
        "registro90 += \"010\"                                             # Código - Aca irá el código 10 y en el campo Importe la Cantidad\n",
        "registro90 += str(cant_bonos).zfill(15)                         # Importe - Cantidad de bonos informados\n",
        "lst_bono_901.append(registro90)\n",
        "\n",
        "registro90 = \"90\"                                               # Tipo de Registro\n",
        "registro90 += \"020\"                                             # Código - en un segundo registro va 20 y en campo Importe va el Monto Total de Certificados\n",
        "registro90 += monto_total_bonos.replace(\".\",\"\").zfill(15)       # Importe - Monto Total de los Bonos informados\n",
        "lst_bono_901.append(registro90)"
      ]
    },
    {
      "cell_type": "markdown",
      "metadata": {
        "id": "oHfwajvW6By7"
      },
      "source": [
        "--- Se genera el Bono 902"
      ]
    },
    {
      "cell_type": "code",
      "execution_count": null,
      "metadata": {
        "id": "ZaiuR5NN6FUK"
      },
      "outputs": [],
      "source": [
        "if periodo_mectra[0] >= 202210:\n",
        "  bono_902 = insumo.loc[(insumo[\"total_bono_902\"] > 0)]\n",
        "  bono_902[\"index\"] = [x for x in range(len(bono_902))]\n",
        "  bono_902.set_index(\"index\", inplace=True)\n",
        "\n",
        "  cant_bonos = len(bono_902)\n",
        "  for x in range(cant_bonos):\n",
        "    bono_902.loc[x ,\"total_bono_902\"] = bono_902.loc[x ,\"total_bono_902\"].round(2)\n",
        "  monto_total_bonos = \"{:.2f}\".format(bono_902[\"total_bono_902\"].sum())\n",
        "\n",
        "  registro01 = \"01\"                                          # Tipo de Registro\n",
        "  registro01 += \"30710817452\"                                # CUIT Ministerio\n",
        "  registro01 += \"00\"                                         # Establecimiento\n",
        "  registro01 += \"083\"                                        # Impuesto\n",
        "  registro01 += \"019\"                                        # Concepto\n",
        "  registro01 += str(periodo_mectra[0])                       # Período\n",
        "  registro01 += \"0\"                                          # Código de Rectificativa\n",
        "  registro01 += str(numero_verificador_902).zfill(6)         # Número Verificador - ES UN VALOR INTERNO DE IDENTIFICACIÓN QUE UD LE QUIERAN COLOCAR\n",
        "  registro01 += \"1400\"                                       # Número de Formulario\n",
        "  registro01 += \"00100\"                                      # Versión\n",
        "  registro01 += hora_generacion                              # Hora - generación del archivo HHMMSS\n",
        "  registro01 += \"0100000\"                                    # Versión del exe\n",
        "  registro01 += str(cant_bonos).zfill(7)                     # Cantidad de Bonos\n",
        "  registro01 += monto_total_bonos.replace(\".\",\"\").zfill(15)  # Monto total Bonos con dos decimales sin coma (13 valores mas 2 dígitos)\n",
        "  lst_bono_902 = [registro01]\n",
        "\n",
        "  for x in range(len(bono_902)):\n",
        "    numero_certificado_902 += 1\n",
        "    registro02 = \"02\"                                                                           # Tipo de Registro\n",
        "    registro02 += \"902\"                                                                         # Tipo de Certificado - 900 / 901\n",
        "    registro02 += anio_generacion                                                               # Año de emisión de Certificado\n",
        "    registro02 += str(numero_certificado_902).zfill(9)                                          # Número de Certificado - ESTE NRO ES A CRITERIO DE CVSA. DEBE SER CORRELATIVO Y CADA AÑO REINICIA LA NUMERACIÓN\n",
        "    registro02 += str(bono_902.loc[x ,\"cuit\"])                                                  # CUIT de la empresa beneficiaria\n",
        "    registro02 += \"{:.2f}\".format(bono_902.loc[x ,\"total_bono_902\"]).replace(\".\",\"\").zfill(15)  # Monto con dos decimales y coma (13 valores mas 2 dígitos)\n",
        "    registro02 += str(bono_902.loc[x ,\"fechaacto\"]).replace(\"-\",\"\")[:8]                         # Fecha de Expediente - Formato AAAAMMDD - ES UN DATO INTERNO DE CVSA. GENERALMENTE LOS ORGANISMOS EXTERNOS INFORMAN NRO DE EXPEDIENTE O CARPETA QUE DIO ORIGEN A ESE OTORGAMIENTO DEL BENEFICIO DEL CRÉDITO FISCAL. NO VALIDAMOS ESTE DATO.\n",
        "    registro02 += str(bono_902.loc[x ,\"fecha_inicio_inscripcion\"]).replace(\"-\",\"\")[:8]          # Fecha desde - inscripcion en el registro (es la fecha de la emisión, que puede diferir de la fecha en el Registro)\n",
        "    registro02 += str(bono_902.loc[x ,\"fecha_fin\"]).replace(\"-\",\"\")[:8]                         # Fecha hasta - máxima a utilizar el bono\n",
        "    registro02 += \"1\"                                                                           # Estado\n",
        "    lst_bono_902.append(registro02)\n",
        "\n",
        "  registro90 = \"90\"                                               # Tipo de Registro\n",
        "  registro90 += \"010\"                                             # Código - Aca irá el código 10 y en el campo Importe la Cantidad\n",
        "  registro90 += str(cant_bonos).zfill(15)                         # Importe - Cantidad de bonos informados\n",
        "  lst_bono_902.append(registro90)\n",
        "\n",
        "  registro90 = \"90\"                                               # Tipo de Registro\n",
        "  registro90 += \"020\"                                             # Código - en un segundo registro va 20 y en campo Importe va el Monto Total de Certificados\n",
        "  registro90 += monto_total_bonos.replace(\".\",\"\").zfill(15)       # Importe - Monto Total de los Bonos informados\n",
        "  lst_bono_902.append(registro90)"
      ]
    },
    {
      "cell_type": "markdown",
      "metadata": {
        "id": "S1-jp18aTZwb"
      },
      "source": [
        "--- Se imprimen ambos bonos en una archivo TXT para la presentación a AFIP."
      ]
    },
    {
      "cell_type": "code",
      "execution_count": null,
      "metadata": {
        "id": "CXnBxbEkRmUz"
      },
      "outputs": [],
      "source": [
        "fecha = datetime.now().strftime(\"%Y\") + datetime.now().strftime(\"%m\") + datetime.now().strftime(\"%d\")\n",
        "\n",
        "if len(bono_900) >= 1:\n",
        "  nombre_archivo_900 = \"F1400.30710817452.\" + fecha +\".\"+ str(numero_verificador_900).zfill(4) +\".txt\"\n",
        "  numpy_array_900 = pd.DataFrame(lst_bono_900).to_numpy()\n",
        "  np.savetxt(\"/content/drive/MyDrive/BonosLEC/Archivos Bonos LEC/Bono900/Unificado/\" + nombre_archivo_900, numpy_array_900, fmt = '%s')\n",
        "\n",
        "if len(bono_901) >= 1:\n",
        "  nombre_archivo_901 = \"F1400.30710817452.\" + fecha +\".\"+ str(numero_verificador_901).zfill(4) +\".txt\"\n",
        "  numpy_array_901 = pd.DataFrame(lst_bono_901).to_numpy()\n",
        "  np.savetxt(\"/content/drive/MyDrive/BonosLEC/Archivos Bonos LEC/Bono901/Unificado/\" + nombre_archivo_901, numpy_array_901, fmt = '%s')\n",
        "\n",
        "if periodo_mectra[0] >= 202210:\n",
        "  if len(bono_902) >= 1:\n",
        "    nombre_archivo_902 = \"F1400.30710817452.\" + fecha +\".\"+ str(numero_verificador_902).zfill(4) +\".txt\"\n",
        "    numpy_array_902 = pd.DataFrame(lst_bono_902).to_numpy()\n",
        "    np.savetxt(\"/content/drive/MyDrive/BonosLEC/Archivos Bonos LEC/Bono902/Unificado/\" + nombre_archivo_902, numpy_array_902, fmt = '%s')"
      ]
    },
    {
      "cell_type": "markdown",
      "metadata": {
        "id": "0KkmWTAziHcO"
      },
      "source": [
        "--- Se renombran las columnas para su exportación a Excel."
      ]
    },
    {
      "cell_type": "code",
      "execution_count": null,
      "metadata": {
        "id": "0iE5O-nwlx_0"
      },
      "outputs": [],
      "source": [
        "insumo = insumo.drop(columns=['fecha_inicio_inscripcion', 'codigo_empresa'])\n",
        "insumo.rename(columns={\"cuit\": \"CUIT\", \"razonsocial\": \"Razón Social\", \"exportacion\": \"Exportación\", \"fechaacto\": \"Fecha Acto/ Fecha de Inscripción\", \"ajuste\": \"Ajuste\",\n",
        "                       \"tipo_empresa\": \"Tipo Empresa\", \"total_lec\": \"Total Empleados Mectra\", \"total_lec_mectra_dj\": \"Total Empleados DJ y Mectra\", \"total_lec_emp_promo\": \"Total Emp Promovidos\",\n",
        "                       \"art9_lec_133\": \"Total Emp Art9\", \"promo_lec_132\": \"Total Emp Art8\", \"contrib_total_lec\": \"Contrib Total (Mectra)\",\n",
        "                       \"contrib_promo_art8\": \"Bono Art8 (70%)\", \"contrib_promo_art9\": \"Bono Art9 (10%)\",\n",
        "                       \"total_bonos_sin_ajuste\": \"Bono Total Emitido (BTE)(aun no se descontó ajuste)\", \"total_bonos\": \"Total bonos 900+901+902 (BTE-Ajuste)\",\n",
        "                       \"total_bono_900\": \"Monto Bono 900\", \"total_bono_901\": \"Monto Bono 901\", \"total_bono_902\": \"Monto Bono 902\",\n",
        "                       \"fecha_inicio\": \"Fecha Alta Bono\", \"fecha_fin\": \"Fecha Vencimiento Bono\"}\n",
        ", inplace=True)"
      ]
    },
    {
      "cell_type": "markdown",
      "metadata": {
        "id": "nCRFwzT5f7-U"
      },
      "source": [
        "--- Se agrega el DF insumo al Reporte General Excel."
      ]
    },
    {
      "cell_type": "code",
      "execution_count": null,
      "metadata": {
        "id": "Q7mp2ZqWf9XW"
      },
      "outputs": [],
      "source": [
        "if agrega_reporte_general == \"Si\":\n",
        "  insumo[\"Fecha Procesamiento\"] = date.today().isoformat()\n",
        "  insumo[\"Tipo Emisión\"] = \"Unificado\"\n",
        "  insumo[\"Período\"] = periodo_mectra[0]\n",
        "  insumo[\"Nro Verificador 900\"] = \"\"\n",
        "  insumo[\"Nro Certificado 900\"] = \"\"\n",
        "  insumo[\"Nro Verificador 901\"] = \"\"\n",
        "  insumo[\"Nro Certificado 901\"] = \"\"\n",
        "  insumo[\"Nro Verificador 902\"] = \"\"\n",
        "  insumo[\"Nro Certificado 902\"] = \"\"\n",
        "\n",
        "  for x in range(len(insumo)):\n",
        "    if insumo.loc[x, \"Monto Bono 900\"] > 0:\n",
        "      insumo.loc[x, \"Nro Verificador 900\"] = numero_verificador_900\n",
        "      insumo.loc[x, \"Nro Certificado 900\"] = nro_cert_900_inicial\n",
        "      nro_cert_900_inicial = nro_cert_900_inicial + 1\n",
        "    if insumo.loc[x, \"Monto Bono 901\"] > 0:\n",
        "      insumo.loc[x, \"Nro Verificador 901\"] = numero_verificador_901\n",
        "      insumo.loc[x, \"Nro Certificado 901\"] = nro_cert_901_inicial\n",
        "      nro_cert_901_inicial = nro_cert_901_inicial + 1\n",
        "    if insumo.loc[x, \"Monto Bono 902\"] > 0:\n",
        "      insumo.loc[x, \"Nro Verificador 902\"] = numero_verificador_902\n",
        "      insumo.loc[x, \"Nro Certificado 902\"] = nro_cert_902_inicial\n",
        "      nro_cert_902_inicial = nro_cert_902_inicial + 1\n",
        "\n",
        "  ruta_reporte_bonos_general = \"/content/drive/My Drive/BonosLEC/Archivos Bonos LEC/Reporte/Reporte Emisión Bonos.xlsx\"\n",
        "  reporte_general = pd.read_excel(ruta_reporte_bonos_general, sheet_name=\"General\")\n",
        "\n",
        "  reporte_general = reporte_general.append(insumo)\n",
        "  reporte_general.iloc[: , 1:]\n",
        "\n",
        "  writer = pd.ExcelWriter(ruta_reporte_bonos_general, engine='xlsxwriter', date_format='YYYY-MM-DD', datetime_format='YYYY-MM-DD')\n",
        "  reporte_general.to_excel(writer, sheet_name='General', startrow=1, header=False, index=False)\n",
        "\n",
        "  workbook = writer.book\n",
        "  worksheet = writer.sheets['General']\n",
        "  (max_row, max_col) = reporte_general.shape\n",
        "  column_settings = [{'header': column} for column in reporte_general.columns]\n",
        "  worksheet.add_table(0, 0, max_row, max_col - 1, \n",
        "                     {'banded_rows': False, 'columns': column_settings,\n",
        "                      'style': 'Table Style Light 11'})\n",
        "\n",
        "  worksheet.set_column(0, max_col - 1, 14)\n",
        "  writer.save()\n",
        "\n",
        "  insumo = insumo.drop(columns=['Tipo Empresa','Fecha Procesamiento','Tipo Emisión','Período','Nro Verificador 900','Nro Certificado 900','Nro Verificador 901','Nro Certificado 901','Nro Verificador 902','Nro Certificado 902'])"
      ]
    },
    {
      "cell_type": "markdown",
      "metadata": {
        "id": "gCfFxIs2-M1g"
      },
      "source": [
        "--- Se exportan tanto el DF mectra como el de insumo con todos sus calculos a modo de reporte a Excel.\n",
        "\n",
        "\n",
        "--- Se ordena la tabla con Contribución en forma descendente."
      ]
    },
    {
      "cell_type": "code",
      "execution_count": null,
      "metadata": {
        "id": "aTfF9qGN_kKB"
      },
      "outputs": [],
      "source": [
        "insumo.sort_values(by=[\"CUIT\"], ascending=False, inplace=True)"
      ]
    },
    {
      "cell_type": "code",
      "execution_count": null,
      "metadata": {
        "id": "AwcP7_LmlyAI"
      },
      "outputs": [],
      "source": [
        "nombre_reporte = \"Reporte Bonos \" + str(periodo_mectra[0]) + \"_\" + str(numero_verificador_900) + \"_\" + str(numero_verificador_901) +\" - \" + date.today().isoformat() + \".xlsx\"\n",
        "ruta_archivo_salida = \"/content/drive/My Drive/BonosLEC/Archivos Bonos LEC/Reporte/Unificado/\" + nombre_reporte\n",
        "\n",
        "writer = pd.ExcelWriter(ruta_archivo_salida, engine='xlsxwriter',\n",
        "                        date_format='YYYY-MM-DD', datetime_format='YYYY-MM-DD')\n",
        "df = insumo\n",
        "df.to_excel(writer, sheet_name='Sheet1', startrow=1, header=False, index=False)\n",
        "\n",
        "# Get the xlsxwriter workbook and worksheet objects.\n",
        "workbook = writer.book\n",
        "worksheet = writer.sheets['Sheet1']\n",
        "\n",
        "# Get the dimensions of the dataframe.\n",
        "(max_row, max_col) = df.shape\n",
        "\n",
        "# Create a list of column headers, to use in add_table().\n",
        "column_settings = [{'header': column} for column in df.columns]\n",
        "\n",
        "# Add the Excel table structure. Pandas will add the data.\n",
        "worksheet.add_table(0, 0, max_row, max_col - 1, \n",
        "                    {'banded_rows': True, 'columns': column_settings,\n",
        "                     'style': 'Table Style Light 11'})\n",
        "\n",
        "# Make the columns wider for clarity.\n",
        "worksheet.set_column(0, max_col - 1, 14)\n",
        "\n",
        "# Close the Pandas Excel writer and output the Excel file.\n",
        "writer.save()"
      ]
    },
    {
      "cell_type": "code",
      "execution_count": null,
      "metadata": {
        "id": "e6SRDoAybv4D"
      },
      "outputs": [],
      "source": [
        "nombre_reporte_mectra = \"Reporte Mectra \" + str(periodo_mectra[0]) + \"_\" + str(numero_verificador_900) + \"_\" + str(numero_verificador_901) + \"_\" + str(numero_verificador_902) +\" - \" + date.today().isoformat() + \".xlsx\"\n",
        "ruta_archivo_salida_mectra = \"/content/drive/My Drive/BonosLEC/Archivos Bonos LEC/Reporte/Unificado/\" + nombre_reporte_mectra\n",
        "\n",
        "writer = pd.ExcelWriter(ruta_archivo_salida_mectra, engine='xlsxwriter',\n",
        "                        date_format='YYYY-MM-DD', datetime_format='YYYY-MM-DD')\n",
        "df = mectra\n",
        "df.to_excel(writer, sheet_name='Sheet1', startrow=1, header=False, index=False)\n",
        "\n",
        "# Get the xlsxwriter workbook and worksheet objects.\n",
        "workbook = writer.book\n",
        "worksheet = writer.sheets['Sheet1']\n",
        "\n",
        "# Get the dimensions of the dataframe.\n",
        "(max_row, max_col) = df.shape\n",
        "\n",
        "# Create a list of column headers, to use in add_table().\n",
        "column_settings = [{'header': column} for column in df.columns]\n",
        "\n",
        "# Add the Excel table structure. Pandas will add the data.\n",
        "worksheet.add_table(0, 0, max_row, max_col - 1, \n",
        "                    {'banded_rows': True, 'columns': column_settings,\n",
        "                     'style': 'Table Style Light 11'})\n",
        "\n",
        "# Make the columns wider for clarity.\n",
        "worksheet.set_column(0, max_col - 1, 14)\n",
        "\n",
        "# Close the Pandas Excel writer and output the Excel file.\n",
        "writer.save()"
      ]
    },
    {
      "cell_type": "markdown",
      "metadata": {
        "id": "PpXO65I8x9AC"
      },
      "source": [
        "<h1>================== Fin del código ==================</h1>"
      ]
    }
  ],
  "metadata": {
    "colab": {
      "provenance": [],
      "include_colab_link": true
    },
    "kernelspec": {
      "display_name": "Python 3",
      "language": "python",
      "name": "python3"
    },
    "language_info": {
      "codemirror_mode": {
        "name": "ipython",
        "version": 3
      },
      "file_extension": ".py",
      "mimetype": "text/x-python",
      "name": "python",
      "nbconvert_exporter": "python",
      "pygments_lexer": "ipython3",
      "version": "3.7.7"
    }
  },
  "nbformat": 4,
  "nbformat_minor": 0
}